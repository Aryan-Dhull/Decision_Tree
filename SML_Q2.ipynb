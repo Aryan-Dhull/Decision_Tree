{
  "nbformat": 4,
  "nbformat_minor": 0,
  "metadata": {
    "colab": {
      "provenance": []
    },
    "kernelspec": {
      "name": "python3",
      "display_name": "Python 3"
    },
    "language_info": {
      "name": "python"
    }
  },
  "cells": [
    {
      "cell_type": "code",
      "execution_count": 1,
      "metadata": {
        "id": "KBfU107Y8_jR"
      },
      "outputs": [],
      "source": [
        "import numpy as np\n",
        "import pandas as pd\n",
        "from sklearn.model_selection import train_test_split"
      ]
    },
    {
      "cell_type": "code",
      "source": [
        "iris_data = pd.read_csv('https://archive.ics.uci.edu/ml/machine-learning-databases/iris/iris.data', header=None)\n",
        "iris_data.columns = ['sepal_length', 'sepal_width', 'petal_length', 'petal_width', 'class']\n",
        "\n",
        "X = iris_data.iloc[:, :-1].values\n",
        "y = iris_data.iloc[:, -1].values"
      ],
      "metadata": {
        "id": "1PkJFNUS9hur"
      },
      "execution_count": 2,
      "outputs": []
    },
    {
      "cell_type": "code",
      "source": [
        "def entropy(labels):\n",
        "    _, counts = np.unique(labels, return_counts=True)\n",
        "    probabilities = counts / counts.sum()\n",
        "    return -probabilities.dot(np.log2(probabilities))"
      ],
      "metadata": {
        "id": "nRjz4jSU9PJf"
      },
      "execution_count": 3,
      "outputs": []
    },
    {
      "cell_type": "code",
      "source": [
        "def split(X, y):\n",
        "    best_feature, best_threshold, best_gain = None, None, 0\n",
        "    for feature in range(X.shape[1]):\n",
        "        thresholds = np.unique(X[:, feature])\n",
        "        for threshold in thresholds:\n",
        "            y_left = y[X[:, feature] < threshold]\n",
        "            y_right = y[X[:, feature] >= threshold]\n",
        "            if len(y_left) == 0 or len(y_right) == 0:\n",
        "                continue\n",
        "            gain = entropy(y) - (len(y_left) / len(y)) * entropy(y_left) - (len(y_right) / len(y)) * entropy(y_right)\n",
        "            if gain > best_gain:\n",
        "                best_feature = feature\n",
        "                best_threshold = threshold\n",
        "                best_gain = gain\n",
        "    return best_feature, best_threshold"
      ],
      "metadata": {
        "id": "cBlAqPYF9Ssb"
      },
      "execution_count": 4,
      "outputs": []
    },
    {
      "cell_type": "code",
      "source": [
        "def build_tree(X, y, max_depth=10, min_samples_split=2, depth=0):\n",
        "    if len(y) < min_samples_split or depth >= max_depth:\n",
        "        return pd.Series(y).value_counts().index[0]\n",
        "    feature, threshold = split(X, y)\n",
        "    if feature is None:\n",
        "        return pd.Series(y).value_counts().index[0]\n",
        "    indices_left = X[:, feature] < threshold\n",
        "    X_left, y_left = X[indices_left], y[indices_left]\n",
        "    X_right, y_right = X[~indices_left], y[~indices_left]\n",
        "    left = build_tree(X_left, y_left, max_depth, min_samples_split, depth+1)\n",
        "    right = build_tree(X_right, y_right, max_depth, min_samples_split, depth+1)\n",
        "    return {'feature': feature, 'threshold': threshold, 'left': left, 'right': right}"
      ],
      "metadata": {
        "id": "kE45Kv6c9WGf"
      },
      "execution_count": 5,
      "outputs": []
    },
    {
      "cell_type": "code",
      "source": [
        "def predict(x, tree):\n",
        "    if isinstance(tree, dict):\n",
        "        feature, threshold, left, right = tree.values()\n",
        "        if x[feature] < threshold:\n",
        "            return predict(x, left)\n",
        "        else:\n",
        "            return predict(x, right)\n",
        "    else:\n",
        "        return tree"
      ],
      "metadata": {
        "id": "mUG_YVTX9akF"
      },
      "execution_count": 6,
      "outputs": []
    },
    {
      "cell_type": "code",
      "source": [
        "def print_tree(node, depth=0, is_left=None):\n",
        "    if isinstance(node, dict):\n",
        "        feature = node['feature']\n",
        "        threshold = node['threshold']\n",
        "        left = node['left']\n",
        "        right = node['right']\n",
        "        if is_left:\n",
        "            arrow = '↙'\n",
        "        else:\n",
        "            arrow = '↘'\n",
        "        print(\"  \" * depth + arrow + f\" {feature} < {threshold}\")\n",
        "        print_tree(left, depth + 1, is_left=True)\n",
        "        print_tree(right, depth + 1, is_left=False)\n",
        "    else:\n",
        "        print(\"  \" * depth + \"➤ \" + str(node))\n"
      ],
      "metadata": {
        "id": "IL4AvUli-Ovg"
      },
      "execution_count": 23,
      "outputs": []
    },
    {
      "cell_type": "code",
      "source": [
        "def printtree(node, depth=0, edge=''):\n",
        "    if isinstance(node, dict):\n",
        "        feature = node['feature']\n",
        "        threshold = node['threshold']\n",
        "        left = node['left']\n",
        "        right = node['right']\n",
        "        print(\"{}{}|-- X[{}] < {} Depth ={} \".format(depth * \"  \", edge, feature, threshold,depth))\n",
        "        printtree(left, depth, edge='L')\n",
        "        printtree(right, depth + 1, edge='R')\n",
        "    else:\n",
        "        print(\"{}{}|-- {} Depth ={}\".format(depth * \"  \", edge, node,depth))"
      ],
      "metadata": {
        "id": "XfSQmRHquREw"
      },
      "execution_count": 28,
      "outputs": []
    },
    {
      "cell_type": "code",
      "source": [
        "def accuracy(y_true, y_pred):\n",
        "    return np.mean(y_true == y_pred)"
      ],
      "metadata": {
        "id": "Ew-ENn9H9d1d"
      },
      "execution_count": 8,
      "outputs": []
    },
    {
      "cell_type": "code",
      "source": [
        "X_train, X_test, y_train, y_test = train_test_split(X, y, test_size=0.2)"
      ],
      "metadata": {
        "id": "dP_0lgXa9pXI"
      },
      "execution_count": 9,
      "outputs": []
    },
    {
      "cell_type": "code",
      "source": [
        "tree = build_tree(X_train, y_train)\n",
        "y_pred = np.array([predict(x, tree) for x in X_test])\n",
        "acc = accuracy(y_test, y_pred)"
      ],
      "metadata": {
        "id": "PZX6ZmNI9s7z"
      },
      "execution_count": 10,
      "outputs": []
    },
    {
      "cell_type": "code",
      "source": [
        "print_tree(tree)"
      ],
      "metadata": {
        "colab": {
          "base_uri": "https://localhost:8080/"
        },
        "id": "0gAwdqC7-QcT",
        "outputId": "a0adac58-1d58-4705-ddf4-32f2f328c66b"
      },
      "execution_count": 24,
      "outputs": [
        {
          "output_type": "stream",
          "name": "stdout",
          "text": [
            "↘ 2 < 3.0\n",
            "  ➤ Iris-setosa\n",
            "  ↘ 2 < 4.9\n",
            "    ↙ 3 < 1.8\n",
            "      ➤ Iris-versicolor\n",
            "      ↘ 0 < 6.0\n",
            "        ➤ Iris-versicolor\n",
            "        ➤ Iris-virginica\n",
            "    ↘ 3 < 1.8\n",
            "      ↙ 0 < 6.3\n",
            "        ➤ Iris-virginica\n",
            "        ↘ 0 < 7.2\n",
            "          ➤ Iris-versicolor\n",
            "          ➤ Iris-virginica\n",
            "      ➤ Iris-virginica\n"
          ]
        }
      ]
    },
    {
      "cell_type": "code",
      "source": [
        "printtree(tree)"
      ],
      "metadata": {
        "colab": {
          "base_uri": "https://localhost:8080/"
        },
        "id": "T4N5nQZ_uUsN",
        "outputId": "503b4b83-98e2-49d2-91d9-888fa2c045ae"
      },
      "execution_count": 29,
      "outputs": [
        {
          "output_type": "stream",
          "name": "stdout",
          "text": [
            "|-- X[2] < 3.0 Depth =0 \n",
            "L|-- Iris-setosa Depth =0\n",
            "  R|-- X[2] < 4.9 Depth =1 \n",
            "  L|-- X[3] < 1.8 Depth =1 \n",
            "  L|-- Iris-versicolor Depth =1\n",
            "    R|-- X[0] < 6.0 Depth =2 \n",
            "    L|-- Iris-versicolor Depth =2\n",
            "      R|-- Iris-virginica Depth =3\n",
            "    R|-- X[3] < 1.8 Depth =2 \n",
            "    L|-- X[0] < 6.3 Depth =2 \n",
            "    L|-- Iris-virginica Depth =2\n",
            "      R|-- X[0] < 7.2 Depth =3 \n",
            "      L|-- Iris-versicolor Depth =3\n",
            "        R|-- Iris-virginica Depth =4\n",
            "      R|-- Iris-virginica Depth =3\n"
          ]
        }
      ]
    },
    {
      "cell_type": "code",
      "source": [
        "print(\"Accuracy:\", acc)"
      ],
      "metadata": {
        "colab": {
          "base_uri": "https://localhost:8080/"
        },
        "id": "adYE7Sh19zdR",
        "outputId": "330c2c0f-308e-4b71-c068-0edca46c3731"
      },
      "execution_count": 12,
      "outputs": [
        {
          "output_type": "stream",
          "name": "stdout",
          "text": [
            "Accuracy: 0.9\n"
          ]
        }
      ]
    }
  ]
}